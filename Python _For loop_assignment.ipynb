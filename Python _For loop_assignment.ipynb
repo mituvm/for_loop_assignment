{
 "cells": [
  {
   "cell_type": "markdown",
   "id": "fa915cad",
   "metadata": {},
   "source": [
    "                                            FOR LOOP ASSIGNMENT"
   ]
  },
  {
   "cell_type": "markdown",
   "id": "03e94ecd",
   "metadata": {},
   "source": [
    "BASIC LEVEL"
   ]
  },
  {
   "cell_type": "markdown",
   "id": "b11d0358",
   "metadata": {},
   "source": [
    "Q1.Write a Python program to print the numbers from 1 to 10 using a `for` loop."
   ]
  },
  {
   "cell_type": "code",
   "execution_count": null,
   "id": "bf7a4501",
   "metadata": {},
   "outputs": [],
   "source": [
    "# Python program to print numbers from 1 to 10\n",
    "\n",
    "print('Numbers from 1 to 10:')\n",
    "for n in range(1, 11):\n",
    "   print(n, end=' ')"
   ]
  },
  {
   "cell_type": "markdown",
   "id": "e9c414a3",
   "metadata": {},
   "source": [
    "Q2.Create a program that calculates the sum of all numbers in a list using a `for` loop."
   ]
  },
  {
   "cell_type": "code",
   "execution_count": null,
   "id": "1876613c",
   "metadata": {},
   "outputs": [],
   "source": [
    "#Step 1: Get the input list from user.\n",
    "input_list=input(\"Enter the list elemets: \").split()"
   ]
  },
  {
   "cell_type": "code",
   "execution_count": null,
   "id": "84ba32ab",
   "metadata": {},
   "outputs": [],
   "source": [
    "#Step 2 : To find the sum of elements in the list"
   ]
  },
  {
   "cell_type": "code",
   "execution_count": null,
   "id": "e499ad40",
   "metadata": {},
   "outputs": [],
   "source": [
    "numsum=0\n",
    "for i in input_list:\n",
    "    numsum+=int(i)"
   ]
  },
  {
   "cell_type": "code",
   "execution_count": null,
   "id": "bea47e69",
   "metadata": {},
   "outputs": [],
   "source": [
    "#step 3: Display the result\n",
    "print(\"The sum of elements: \",numsum)"
   ]
  },
  {
   "cell_type": "markdown",
   "id": "31323947",
   "metadata": {},
   "source": [
    "Q3. Write a program to print the characters of a string in reverse order using a `for` loop."
   ]
  },
  {
   "cell_type": "code",
   "execution_count": null,
   "id": "11fcf601",
   "metadata": {},
   "outputs": [],
   "source": [
    "#Step 1: Get a string from user"
   ]
  },
  {
   "cell_type": "code",
   "execution_count": null,
   "id": "ceb1ac8b",
   "metadata": {},
   "outputs": [],
   "source": [
    "input_string=input(\"Enter a string: \")"
   ]
  },
  {
   "cell_type": "code",
   "execution_count": null,
   "id": "307441be",
   "metadata": {},
   "outputs": [],
   "source": [
    "#Step 2: create a function to reverse the string"
   ]
  },
  {
   "cell_type": "code",
   "execution_count": null,
   "id": "f661af4f",
   "metadata": {},
   "outputs": [],
   "source": [
    "#Reverse the characters in the string"
   ]
  },
  {
   "cell_type": "code",
   "execution_count": null,
   "id": "9a402a80",
   "metadata": {},
   "outputs": [],
   "source": [
    "string=\"\"\n",
    "for char in input_string:\n",
    "    string=char+string"
   ]
  },
  {
   "cell_type": "code",
   "execution_count": null,
   "id": "90ccc93d",
   "metadata": {},
   "outputs": [],
   "source": [
    "#Step 3: Display the result\n",
    "print(\"The reversed string: \",string)"
   ]
  },
  {
   "cell_type": "markdown",
   "id": "fd205a06",
   "metadata": {},
   "source": [
    "Q4.Develop a program that finds the factorial of a given number using a `for` loop."
   ]
  },
  {
   "cell_type": "code",
   "execution_count": null,
   "id": "9b3bbec3",
   "metadata": {},
   "outputs": [],
   "source": [
    "#Step 1: Get the input from user\n",
    "input_number=int(input(\"Enter a number: \"))"
   ]
  },
  {
   "cell_type": "code",
   "execution_count": null,
   "id": "5dfebe80",
   "metadata": {},
   "outputs": [],
   "source": [
    "#Step 2 :To find the factorial of the number"
   ]
  },
  {
   "cell_type": "code",
   "execution_count": null,
   "id": "214ed7c1",
   "metadata": {},
   "outputs": [],
   "source": [
    "fact=1\n",
    "for i in range(1,input_number+1):\n",
    "    fact=fact*i\n",
    "print(\"The factorial of the input number is:\",fact)"
   ]
  },
  {
   "cell_type": "markdown",
   "id": "2ecef6ec",
   "metadata": {},
   "source": [
    "Q5. Create a program to print the multiplication table of a given number using a `for` loop."
   ]
  },
  {
   "cell_type": "code",
   "execution_count": null,
   "id": "47b7f3ec",
   "metadata": {},
   "outputs": [],
   "source": [
    "#Step 1: Get the input from user\n",
    "input_number=int(input(\"Enter a number: \"))"
   ]
  },
  {
   "cell_type": "code",
   "execution_count": null,
   "id": "1024586c",
   "metadata": {},
   "outputs": [],
   "source": [
    "#Step 2 :To print the multiplication table of the number"
   ]
  },
  {
   "cell_type": "code",
   "execution_count": null,
   "id": "5f6e05bd",
   "metadata": {},
   "outputs": [],
   "source": [
    "print(f\"The multiplication table of {input_number} is:\")\n",
    "n=0\n",
    "for i in range(1,11):\n",
    "    i=i*input_number\n",
    "    n+=1\n",
    "    print(f\"{input_number}X{n}={i}\")\n",
    "   "
   ]
  },
  {
   "cell_type": "markdown",
   "id": "8c4487c9",
   "metadata": {},
   "source": [
    "Q6. Write a program that counts the number of even and odd numbers in a list using a `for` loop."
   ]
  },
  {
   "cell_type": "code",
   "execution_count": null,
   "id": "c5811675",
   "metadata": {},
   "outputs": [],
   "source": [
    "#Step 1: Get the input list from user"
   ]
  },
  {
   "cell_type": "code",
   "execution_count": null,
   "id": "48d196b8",
   "metadata": {},
   "outputs": [],
   "source": [
    "input_list=input(\"Enter the integer number list: \").split()"
   ]
  },
  {
   "cell_type": "code",
   "execution_count": null,
   "id": "6cdc940d",
   "metadata": {},
   "outputs": [],
   "source": [
    "count_even=0\n",
    "count_odd=0\n",
    "for i in input_list:\n",
    "    if(int(i)%2==0):\n",
    "        count_even+=1\n",
    "    else:\n",
    "        count_odd+=1\n",
    "print(\"The number of even numbers in the input list is: \",count_even)\n",
    "print(\"The number of odd numbers in the input list is: \",count_odd)\n"
   ]
  },
  {
   "cell_type": "markdown",
   "id": "b7525439",
   "metadata": {},
   "source": [
    "Q7. Develop a program that prints the squares of numbers from 1 to 5 using a `for` loop."
   ]
  },
  {
   "cell_type": "code",
   "execution_count": null,
   "id": "b5ae2104",
   "metadata": {},
   "outputs": [],
   "source": [
    "square_num=0\n",
    "print(\"The squares of numbers from 1 to 5: \")\n",
    "\n",
    "for i in range(1,6):\n",
    "    n=i\n",
    "    square_num=i*i\n",
    "    print(f\"The square of {n} is {square_num}\" )\n"
   ]
  },
  {
   "cell_type": "markdown",
   "id": "1190dc00",
   "metadata": {},
   "source": [
    "Q8. Create a program to find the length of a string without using the `len()` function."
   ]
  },
  {
   "cell_type": "code",
   "execution_count": null,
   "id": "2698e065",
   "metadata": {},
   "outputs": [],
   "source": [
    "#Step 1: Get a string from the user\n",
    "input_string=input(\"Enter a string: \")"
   ]
  },
  {
   "cell_type": "code",
   "execution_count": null,
   "id": "83008bd3",
   "metadata": {},
   "outputs": [],
   "source": [
    "#Step 2: find the length of the string without using len()\n",
    "\n",
    "string_len=0\n",
    "count=0\n",
    "for i in input_string:\n",
    "    count=count+1\n",
    "print(\"The total length of the input string is: \",count)"
   ]
  },
  {
   "cell_type": "markdown",
   "id": "d2133422",
   "metadata": {},
   "source": [
    "Q9. Write a program that calculates the average of a list of numbers using a `for` loop."
   ]
  },
  {
   "cell_type": "code",
   "execution_count": null,
   "id": "445c932b",
   "metadata": {},
   "outputs": [],
   "source": [
    "#Step 1 : Get the input of list of numbers from user\n",
    "input_list=input(\"Enter a list of integer numbers for which the average is to be found: \").split()"
   ]
  },
  {
   "cell_type": "code",
   "execution_count": null,
   "id": "2a4b6182",
   "metadata": {},
   "outputs": [],
   "source": [
    "print(input_list)"
   ]
  },
  {
   "cell_type": "code",
   "execution_count": null,
   "id": "4cb3705b",
   "metadata": {},
   "outputs": [],
   "source": [
    "#Step 2: find the average of numbers in list\n",
    "\n",
    "avg_list=0\n",
    "count=0\n",
    "sum_list =0\n",
    "\n",
    "for i in input_list:\n",
    "    count=count+1\n",
    "\n",
    "for i in input_list:\n",
    "    sum_list=sum_list+int(i)\n",
    "    \n",
    "for i in input_list:\n",
    "    avg_list= sum_list/count\n",
    "    \n",
    "print(\"Average value of the list: \",avg_list) "
   ]
  },
  {
   "cell_type": "markdown",
   "id": "4315c698",
   "metadata": {},
   "source": [
    "Q10. Develop a program that prints the first `n` Fibonacci numbers using a `for` loop."
   ]
  },
  {
   "cell_type": "code",
   "execution_count": null,
   "id": "1f5ae559",
   "metadata": {},
   "outputs": [],
   "source": [
    "#Step 1 : Get input from user\n",
    "input_num=int(input(\"Enter the number of terms to be printed in the fibonacci series: \"))"
   ]
  },
  {
   "cell_type": "code",
   "execution_count": null,
   "id": "2d4b423f",
   "metadata": {},
   "outputs": [],
   "source": [
    "#Step 2: Initialise the first and second numbers\n",
    "n1=0\n",
    "n2=1\n",
    "if input_num<=0:\n",
    "    print(\"The fibonacci series is \",n1)\n",
    "else:\n",
    "    print(n1,n2,end=\" \")\n",
    "    for i in range(2,input_num):\n",
    "        n3=n1+n2\n",
    "        print(n3,end=\" \")\n",
    "        n1=n2\n",
    "        n2=n3"
   ]
  },
  {
   "cell_type": "markdown",
   "id": "127d46a9",
   "metadata": {},
   "source": [
    "                                                   INTERMEDIATE LEVEL"
   ]
  },
  {
   "cell_type": "markdown",
   "id": "15a0649d",
   "metadata": {},
   "source": [
    "Q11. Write a program to check if a given list contains any duplicates using a `for` loop."
   ]
  },
  {
   "cell_type": "code",
   "execution_count": null,
   "id": "acfa8205",
   "metadata": {},
   "outputs": [],
   "source": [
    "#Step 1: Get input from user\n",
    "input_list=input(\"Enter a list of integers to check if duplicate values are present: \").split()"
   ]
  },
  {
   "cell_type": "code",
   "execution_count": null,
   "id": "3ee58574",
   "metadata": {},
   "outputs": [],
   "source": [
    "#Step 2: program to check if duplicate values are present in a list\n",
    "check_list=set()\n",
    "has_duplicate=False\n",
    "for i in input_list:\n",
    "    if i in check_list:\n",
    "        pass\n",
    "    elif input_list.count(i)==1:\n",
    "        check_list.add(i)\n",
    "    elif input_list.count(i)>1:\n",
    "        has_duplicate=True\n",
    "        print(\"The list contains duplicate elements.\")\n",
    "        break\n",
    "if not has_duplicate:\n",
    "            print(\"List has no duplicate elements.\")"
   ]
  },
  {
   "cell_type": "markdown",
   "id": "7df27e6f",
   "metadata": {},
   "source": [
    "Q12. Create a program that prints the prime numbers in a given range using a `for` loop."
   ]
  },
  {
   "cell_type": "code",
   "execution_count": null,
   "id": "5d78c1bd",
   "metadata": {},
   "outputs": [],
   "source": [
    "#Step 1: get input from user\n",
    "input_range=int(input(\"Enter the range to print the prime numbers: \"))"
   ]
  },
  {
   "cell_type": "code",
   "execution_count": null,
   "id": "015090fa",
   "metadata": {},
   "outputs": [],
   "source": [
    "#Step 2: To find the prime numbers\n",
    "print (\"The Prime Numbers in the range are: \")  \n",
    "for number in range (1,input_range+1):  \n",
    "    if number > 1:  \n",
    "        for i in range (2, number):  \n",
    "            if (number % i) == 0:  \n",
    "                break  \n",
    "        else:  \n",
    "            print (number,end=\" \") "
   ]
  },
  {
   "cell_type": "markdown",
   "id": "49e85f4a",
   "metadata": {},
   "source": [
    "Q13. Develop a program that counts the number of vowels in a string using a `for` loop."
   ]
  },
  {
   "cell_type": "code",
   "execution_count": null,
   "id": "f15b63ef",
   "metadata": {},
   "outputs": [],
   "source": [
    "#Step 1: get input string from user\n",
    "input_string=input(\"Enter the string: \")"
   ]
  },
  {
   "cell_type": "code",
   "execution_count": null,
   "id": "6325fd63",
   "metadata": {},
   "outputs": [],
   "source": [
    "#Step 2: to find the number of vowels\n",
    "count=0\n",
    "vowels=\"aeiouAEIOU\"\n",
    "for i in input_string:\n",
    "    if i in vowels:\n",
    "        count=count+1\n",
    "print(\"The total number of vowels in the given string is: \",count)"
   ]
  },
  {
   "cell_type": "markdown",
   "id": "80416d31",
   "metadata": {},
   "source": [
    "Q14. Write a program to find the maximum element in a 2D list using a nested `for` loop."
   ]
  },
  {
   "cell_type": "code",
   "execution_count": null,
   "id": "9c83f20e",
   "metadata": {},
   "outputs": [],
   "source": [
    "# Python code to find max element in a matrix\n",
    "import sys\n",
    "N = 4\n",
    "M = 4\n",
    " \n",
    "# Function to find max element\n",
    "# mat[][] : 2D array to find max element\n",
    "def findMax(mat):\n",
    "     \n",
    "    # Initializing max element as INT_MIN\n",
    "    maxElement = -sys.maxsize - 1\n",
    " \n",
    "    # checking each element of matrix if it is greater than maxElement,update maxElement\n",
    "    for i in range(N):\n",
    "        for j in range(M):\n",
    "            if (mat[i][j] > maxElement):\n",
    "                maxElement = mat[i][j]\n",
    "         \n",
    "    # finally return maxElement\n",
    "    return maxElement\n",
    "\n",
    "# Driver code\n",
    "if __name__ == '__main__':\n",
    "     \n",
    "    # matrix\n",
    "    mat = [[1, 2, 3, 4],\n",
    "           [25, 6, 7, 8],\n",
    "           [9, 10, 11, 12],\n",
    "           [13, 14, 15, 16]]\n",
    "    print(findMax(mat))"
   ]
  },
  {
   "cell_type": "markdown",
   "id": "71df27c3",
   "metadata": {},
   "source": [
    "Q15.Create a program that removes all occurrences of a specific element from a list using a `for` loop."
   ]
  },
  {
   "cell_type": "code",
   "execution_count": null,
   "id": "7ed52db6",
   "metadata": {},
   "outputs": [],
   "source": [
    "# list with integer elements\n",
    "list = [10, 20, 10, 30, 10, 40, 10, 50]\n",
    "# number (n) to be removed\n",
    "n = 10\n",
    "\n",
    "# print original list \n",
    "print (\"Original list:\")\n",
    "print (list)\n",
    "\n",
    "# loop to traverse each element in list\n",
    "# and, remove elements \n",
    "# which are equals to n\n",
    "for x in list:\n",
    "    if x == n:\n",
    "        list.remove(x)\n",
    "\n",
    "# print list after removing given element\n",
    "print (\"list after removing elements:\")\n",
    "print (list)"
   ]
  },
  {
   "cell_type": "markdown",
   "id": "53fa6289",
   "metadata": {},
   "source": [
    "Q16. Develop a program that generates a multiplication table for numbers from 1 to 5 using a nested `for` loop."
   ]
  },
  {
   "cell_type": "code",
   "execution_count": null,
   "id": "1af23129",
   "metadata": {},
   "outputs": [],
   "source": [
    "for i in range(1,6):\n",
    "    print()\n",
    "    for j in range (1,11):\n",
    "        print(i,\"*\",j,\"=\",i*j)"
   ]
  },
  {
   "cell_type": "markdown",
   "id": "a9fb6b6c",
   "metadata": {},
   "source": [
    "Q17. Write a program that converts a list of Fahrenheit temperatures to Celsius using a `for` loop."
   ]
  },
  {
   "cell_type": "code",
   "execution_count": null,
   "id": "18b8cf37",
   "metadata": {},
   "outputs": [],
   "source": [
    "# Temperature in celsius degree\n",
    "fahrenheit = float(input(\"Enter the list of temperature in Fahrenheit: \"))\n",
    " \n",
    "# Converting the temperature to fehrenheit using the formula\n",
    "for i in fahrenheit:\n",
    "    Celsius = ((fahrenheit-32)*5)/9 \n",
    "\n",
    "# printing the result\n",
    "print('%.2f Fahrenheit is equivalent to: %.2f Celsius'% (fahrenheit,Celsius))"
   ]
  },
  {
   "cell_type": "markdown",
   "id": "8b682772",
   "metadata": {},
   "source": [
    "Q18. Create a program to print the common elements from two lists using a `for` loop."
   ]
  },
  {
   "cell_type": "code",
   "execution_count": null,
   "id": "30e73c11",
   "metadata": {},
   "outputs": [],
   "source": [
    "list1=[1,2,3,4,5,6,7,8,]\n",
    "list2=[5,6,7,8,9]\n",
    "\n",
    "def common_elements(list1, list2):\n",
    "    result = []\n",
    "    for element in list1:\n",
    "        if element in list2:\n",
    "            result.append(element)\n",
    "    return result\n",
    "common=common_elements(list1,list2)\n",
    "print(\"List 1: \",list1)\n",
    "print(\"List 2: \",list2)\n",
    "print(\"The common elements in list1 and list2 : \",common)"
   ]
  },
  {
   "cell_type": "markdown",
   "id": "c382fbb4",
   "metadata": {},
   "source": [
    "Q19. Develop a program that prints the pattern of right-angled triangles using a `for` loop. Use ‘*’ to draw the\n",
    "pattern"
   ]
  },
  {
   "cell_type": "code",
   "execution_count": null,
   "id": "d7a4bf1a",
   "metadata": {},
   "outputs": [],
   "source": [
    "for i in range(5):\n",
    "    for j in range(i+1):\n",
    "        print(\"*\",end=\" \")\n",
    "    print()"
   ]
  },
  {
   "cell_type": "markdown",
   "id": "df075b5d",
   "metadata": {},
   "source": [
    "Q20.Write a program to find the greatest common divisor (GCD) of two numbers using a `for` loop."
   ]
  },
  {
   "cell_type": "code",
   "execution_count": null,
   "id": "f2f96b17",
   "metadata": {},
   "outputs": [],
   "source": [
    "print(\"To find the greatest common divisor(GCD) of two numbers\")\n",
    "num1 = int(input(\"Enter the first number: \"))\n",
    "num2 = int(input(\"Enter the second number: \"))\n",
    "gcd = 1\n",
    "\n",
    "for i in range(1, min(num1, num2)):\n",
    "    if num1 % i == 0 and num2 % i == 0:\n",
    "        gcd = i\n",
    "print(\"GCD of\", num1, \"and\", num2, \"is\", gcd)"
   ]
  },
  {
   "cell_type": "markdown",
   "id": "1c5962b6",
   "metadata": {},
   "source": [
    "                                                    ADVANCED LEVEL"
   ]
  },
  {
   "cell_type": "markdown",
   "id": "1ae61cca",
   "metadata": {},
   "source": [
    "Q21. Create a program that calculates the sum of the digits of numbers in a list using a list comprehension."
   ]
  },
  {
   "cell_type": "code",
   "execution_count": null,
   "id": "26b36901",
   "metadata": {},
   "outputs": [],
   "source": [
    "from functools import reduce"
   ]
  },
  {
   "cell_type": "code",
   "execution_count": null,
   "id": "726548a4",
   "metadata": {},
   "outputs": [],
   "source": [
    "input_list=input(\"Enter the numbers in the list: \").split()"
   ]
  },
  {
   "cell_type": "code",
   "execution_count": null,
   "id": "08ce09b6",
   "metadata": {},
   "outputs": [],
   "source": [
    "sum_list=reduce((lambda a,b:int(a)+int(b)),input_list)"
   ]
  },
  {
   "cell_type": "code",
   "execution_count": null,
   "id": "14197af8",
   "metadata": {},
   "outputs": [],
   "source": [
    "print(sum_list)"
   ]
  },
  {
   "cell_type": "markdown",
   "id": "49b45f33",
   "metadata": {},
   "source": [
    "Q22. Write a program to find the prime factors of a given number using a `for` loop and list comprehension."
   ]
  },
  {
   "cell_type": "code",
   "execution_count": null,
   "id": "6e63c346",
   "metadata": {},
   "outputs": [],
   "source": [
    "prime_factors = lambda n: [i for i in range(2, n+1) if n%i == 0 and all(i % j != 0 for j in range(2, int(i**0.5)+1))]\n",
    "n = 23\n",
    "factors = []\n",
    "while n > 1:\n",
    "    for factor in prime_factors(n):\n",
    "        factors.append(factor)\n",
    "        n //= factor\n",
    "print(*factors)"
   ]
  },
  {
   "cell_type": "markdown",
   "id": "5aea36b7",
   "metadata": {},
   "source": [
    "Q23.Develop a program that extracts unique elements from a list and stores them in a new list using a list\n",
    "comprehension."
   ]
  },
  {
   "cell_type": "code",
   "execution_count": null,
   "id": "0d1cbf09",
   "metadata": {},
   "outputs": [],
   "source": [
    "# Original list with duplicate elements\n",
    "original_list = [1, 2, 2, 3, 4, 4, 5, 6, 6, 7]\n",
    "\n",
    "# Using a list comprehension to extract unique elements\n",
    "unique_list = [x for i, x in enumerate(original_list) if x not in original_list[:i]]\n",
    "\n",
    "# Print the unique elements\n",
    "print(unique_list)"
   ]
  },
  {
   "cell_type": "markdown",
   "id": "a8c9fa79",
   "metadata": {},
   "source": [
    "Q24. Create a program that generates a list of all palindromic numbers up to a specified limit using a list\n",
    "comprehension."
   ]
  },
  {
   "cell_type": "code",
   "execution_count": null,
   "id": "993eee22",
   "metadata": {},
   "outputs": [],
   "source": [
    "n=int(input(\"Enter the limit to print palindrome numbers: \"))\n",
    "palindromes = [x for x in range(1, n) if str(x) == str(x)[::-1]]\n",
    "print(palindromes)"
   ]
  },
  {
   "cell_type": "markdown",
   "id": "f5b8718d",
   "metadata": {},
   "source": [
    "Q26. Develop a program that computes the sum of even and odd numbers in a list separately using list\n",
    "comprehension."
   ]
  },
  {
   "cell_type": "code",
   "execution_count": null,
   "id": "a7a689f5",
   "metadata": {},
   "outputs": [],
   "source": [
    "list1=input(\"Enter the list of numbers: \").split()\n",
    "odd_count = list(filter(lambda x: (x%2 != 0) , int(list1))\n",
    "even_count = list(filter(lambda x: (x%2 == 0) , int(list1))\n",
    "print(\"Even numbers in the list: \", even_count)\n",
    "print(\"Odd numbers in the list: \", odd_count)"
   ]
  },
  {
   "cell_type": "markdown",
   "id": "6f882d3f",
   "metadata": {},
   "source": [
    "Q27.Create a program that generates a list of squares of odd numbers between 1 and 10 using list\n",
    "comprehension."
   ]
  },
  {
   "cell_type": "code",
   "execution_count": null,
   "id": "5b441412",
   "metadata": {},
   "outputs": [],
   "source": [
    "numbers = [1, 2, 3, 4, 5, 6, 7, 8, 9, 10]\n",
    "squared_odds = [x**2 for x in numbers if x % 2 != 0]\n",
    "print(numbers)\n",
    "print(squared_odds)"
   ]
  },
  {
   "cell_type": "markdown",
   "id": "1d3eefbd",
   "metadata": {},
   "source": [
    "Q28. Write a program that combines two lists into a dictionary using list comprehension."
   ]
  },
  {
   "cell_type": "code",
   "execution_count": null,
   "id": "3b74f571",
   "metadata": {},
   "outputs": [],
   "source": [
    "keys = ['name', 'age', 'city']\n",
    "values = ['Alice', 30, 'New York']\n",
    "\n",
    "# Using a dictionary comprehension to combine the two lists\n",
    "my_dict = {keys[i]: values[i] for i in range(len(keys))}\n",
    "\n",
    "print(my_dict)"
   ]
  },
  {
   "cell_type": "markdown",
   "id": "dbdaf447",
   "metadata": {},
   "source": [
    "Q29. Develop a program that extracts the vowels from a string and stores them in a list using list comprehension."
   ]
  },
  {
   "cell_type": "code",
   "execution_count": null,
   "id": "39ccb418",
   "metadata": {},
   "outputs": [],
   "source": [
    "text = input('Enter text: ')\n",
    "count = 0\n",
    "vowel_list = [char for char in text if char.lower() in \"aeiou\"]\n",
    "print(len(vowel_list))   \n",
    "print(vowel_list)  "
   ]
  },
  {
   "cell_type": "markdown",
   "id": "36bb516f",
   "metadata": {},
   "source": [
    "Q30.Create a program that removes all non-numeric characters from a list of strings using list comprehension."
   ]
  },
  {
   "cell_type": "code",
   "execution_count": null,
   "id": "306ce0ce",
   "metadata": {},
   "outputs": [],
   "source": [
    "import re\n",
    "\n",
    "my_str = 'bo_1bby_2_ha_3_dz.com'\n",
    "\n",
    "result = re.sub(r'[^0-9]', '', my_str)\n",
    "\n",
    "print(result)"
   ]
  },
  {
   "cell_type": "markdown",
   "id": "a5670318",
   "metadata": {},
   "source": [
    "                                                   CHALLENGE LEVEL"
   ]
  },
  {
   "cell_type": "markdown",
   "id": "8e95eb7b",
   "metadata": {},
   "source": [
    "Q31. Write a program to generate a list of prime numbers using the Sieve of Eratosthenes algorithm and list\n",
    "comprehension."
   ]
  },
  {
   "cell_type": "code",
   "execution_count": null,
   "id": "0b471445",
   "metadata": {},
   "outputs": [],
   "source": [
    "'''Sieve of Eratosthenes is a method for finding all primes up to (and possibly including) a given natural. \n",
    "This method works well when is relatively small, allowing us to determine whether any natural \n",
    "number less than or equal to is prime or composite. '''"
   ]
  },
  {
   "cell_type": "code",
   "execution_count": null,
   "id": "52b0fb2b",
   "metadata": {},
   "outputs": [],
   "source": [
    "def SieveOfEratosthenes(num):\n",
    "    prime = [True for i in range(num+1)]\n",
    "# boolean array\n",
    "    p = 2\n",
    "    while (p * p <= num):\n",
    " \n",
    "        # If prime[p] is not\n",
    "        # changed, then it is a prime\n",
    "        if (prime[p] == True):\n",
    " \n",
    "            # Updating all multiples of p\n",
    "            for i in range(p * p, num+1, p):\n",
    "                prime[i] = False\n",
    "        p += 1\n",
    " \n",
    "    # Print all prime numbers\n",
    "    for p in range(2, num+1):\n",
    "        if prime[p]:\n",
    "            print(p)\n",
    " \n",
    " \n",
    "# Driver code\n",
    "if __name__ == '__main__':\n",
    "    num = int(input(\"Enter a number: \"))\n",
    "    print(\"Following are the prime numbers smaller than or equal to\", num)\n",
    "    SieveOfEratosthenes(num)"
   ]
  },
  {
   "cell_type": "markdown",
   "id": "b42150a0",
   "metadata": {},
   "source": [
    "Q32.Create a program that generates a list of all Pythagorean triplets up to a specified limit using list\n",
    "comprehension."
   ]
  },
  {
   "cell_type": "code",
   "execution_count": null,
   "id": "efb3f9ef",
   "metadata": {},
   "outputs": [],
   "source": [
    "[(x,y,z) for x in range(1,30) for y in range(x,30) for z in range(y,30) if x**2 + y**2 == z**2]"
   ]
  },
  {
   "cell_type": "markdown",
   "id": "6b92a2ff",
   "metadata": {},
   "source": [
    "Q33. Develop a program that generates a list of all possible combinations of two lists using list comprehension."
   ]
  },
  {
   "cell_type": "code",
   "execution_count": null,
   "id": "2bccb297",
   "metadata": {},
   "outputs": [],
   "source": [
    "list1 = [1, 3, 4]\n",
    "list2 = [6, 7, 9]\n",
    " \n",
    "# printing lists\n",
    "print (\"The original lists are : \" + str(list1) +\" \" + str(list2) +\" \" )\n",
    " \n",
    "# using list comprehension\n",
    "# to compute all possible permutations\n",
    "res = [[i, j] for i in list1 for j in list2]\n",
    " \n",
    "# printing result\n",
    "print (\"All possible permutations are : \" + str(res))"
   ]
  },
  {
   "cell_type": "markdown",
   "id": "4d19513e",
   "metadata": {},
   "source": [
    "Q34. Write a program that calculates the mean, median, and mode of a list of numbers using list\n",
    "comprehension."
   ]
  },
  {
   "cell_type": "code",
   "execution_count": null,
   "id": "bfcd784e",
   "metadata": {},
   "outputs": [],
   "source": [
    "from collections import Counter\n",
    "\n",
    "numb = [2, 3, 5, 7, 8]\n",
    "no = len(numb)\n",
    "summ = sum(numb)\n",
    "mean = summ / no\n",
    "print(\"The mean or average of all these numbers (\", numb, \") is\", str(mean))\n",
    "numb.sort()\n",
    "if no % 2 == 0:\n",
    "    median1 = numb[no//2]\n",
    "    median2 = numb[no//2 - 1]\n",
    "    median = (median1 + median2)/2\n",
    "else:\n",
    "    median = numb[no//2]\n",
    "print(\"The median of the given numbers  (\", numb, \") is\", str(median))\n",
    "val = Counter(numb)\n",
    "findMode = dict(val)\n",
    "mode = [i for i, v in findMode.items() if v == max(list(val.values()))]  \n",
    "if len(mode) == no:\n",
    "    findMode = \"The group of number do not have any mode\"\n",
    "else:\n",
    "    findMode = \"The mode of a number is / are: \" + ', '.join(map(str, mode))\n",
    "print(findMode)\n"
   ]
  },
  {
   "cell_type": "markdown",
   "id": "eda31188",
   "metadata": {},
   "source": [
    "Q35. Create a program that generates Pascal's triangle up to a specified number of rows using list\n",
    "comprehension."
   ]
  },
  {
   "cell_type": "code",
   "execution_count": null,
   "id": "fb209e6c",
   "metadata": {},
   "outputs": [],
   "source": [
    "def gen(n,r=[]):\n",
    "    for x in range(n):\n",
    "        l = len(r)\n",
    "        r = [1 if i == 0 or i == l else r[i-1]+r[i] for i in range(l+1)]\n",
    "        yield r\n",
    "p=list(gen(15))\n",
    "print(p)\n"
   ]
  },
  {
   "cell_type": "markdown",
   "id": "c818860a",
   "metadata": {},
   "source": [
    "Q36. Develop a program that calculates the sum of the digits of a factorial of numbers from 1 to 5 using list\n",
    "comprehension."
   ]
  },
  {
   "cell_type": "code",
   "execution_count": null,
   "id": "9a27e2dd",
   "metadata": {},
   "outputs": [],
   "source": [
    "def factorial(n):\n",
    "    if n == 0 or n == 1:\n",
    "        return 1\n",
    "    else:\n",
    "        return n * factorial(n - 1)\n",
    "\n",
    "# Calculate the factorial and sum of digits for numbers from 1 to 5\n",
    "results = [sum(int(digit) for digit in str(factorial(i))) for i in range(1, 6)]\n",
    "\n",
    "# Print the results\n",
    "#for i, result in enumerate(results, 1):\n",
    "print(f\"Factorial of {i} has a digit sum of {result}\")"
   ]
  },
  {
   "cell_type": "markdown",
   "id": "6a1cb66c",
   "metadata": {},
   "source": [
    "Q37. Write a program that finds the longest word in a sentence using list comprehension."
   ]
  },
  {
   "cell_type": "code",
   "execution_count": null,
   "id": "c1509d0d",
   "metadata": {},
   "outputs": [],
   "source": [
    "# Python program to read a String and Print Longest\n",
    "# word and it's Position\n",
    "# Read input string\n",
    "str = input(\"Enter a String: \")\n",
    "# Split the string to a list of words\n",
    "word_list = str.split()\n",
    "# Find the longest word\n",
    "longest_word = max(word_list, key = len)\n",
    "# Find the position (index) of longest word\n",
    "pos = str.index(longest_word)\n",
    "# Print the longest word and it's position\n",
    "print(\"Longest word: \",longest_word)\n",
    "print(\"Position of Longest word: \", pos)"
   ]
  },
  {
   "cell_type": "markdown",
   "id": "e2a3915c",
   "metadata": {},
   "source": [
    "Q38. Create a program that filters a list of strings to include only those with more than three vowels using list\n",
    "comprehension."
   ]
  },
  {
   "cell_type": "code",
   "execution_count": null,
   "id": "39cc1190",
   "metadata": {},
   "outputs": [],
   "source": [
    "# Initializing Matrix\n",
    "test_list = [\"gfg\", \"best\", \"for\", \"geeks\"]\n",
    " \n",
    "# Printing original list\n",
    "print(\"The original list is : \" ,test_list)\n",
    " \n",
    "res = \"\"\n",
    "max_len = 0\n",
    " \n",
    "for ele in test_list:\n",
    " \n",
    "    # Getting maximum length and element iteratively\n",
    "    vow_len = len([el for el in ele if el in ['a', 'e', 'o', 'u', 'i']])\n",
    "     \n",
    "    if vow_len > max_len:\n",
    "        max_len = vow_len\n",
    "        res = ele\n",
    " \n",
    "# Printing result\n",
    "print(\"Maximum vowels word : \", res)"
   ]
  },
  {
   "cell_type": "markdown",
   "id": "7f9c7dea",
   "metadata": {},
   "source": [
    "Q39. Develop a program that calculates the sum of the digits of numbers from 1 to 1000 using list\n",
    "comprehension."
   ]
  },
  {
   "cell_type": "code",
   "execution_count": null,
   "id": "b52f195d",
   "metadata": {},
   "outputs": [],
   "source": [
    "num1 = 1000 \n",
    "res = sum(range(1, num1+1)) \n",
    "print(\"SUM of first \", num1, \"numbers is: \", res) "
   ]
  },
  {
   "cell_type": "markdown",
   "id": "11b51d37",
   "metadata": {},
   "source": [
    "Q40. Write a program that generates a list of prime  numbers."
   ]
  },
  {
   "cell_type": "code",
   "execution_count": null,
   "id": "e65de584",
   "metadata": {},
   "outputs": [],
   "source": [
    "def SieveOfEratosthenes(num):\n",
    "    prime = [True for i in range(num+1)]\n",
    "# boolean array\n",
    "    p = 2\n",
    "    while (p * p <= num):\n",
    " \n",
    "        # If prime[p] is not\n",
    "        # changed, then it is a prime\n",
    "        if (prime[p] == True):\n",
    " \n",
    "            # Updating all multiples of p\n",
    "            for i in range(p * p, num+1, p):\n",
    "                prime[i] = False\n",
    "        p += 1\n",
    " \n",
    "    # Print all prime numbers\n",
    "    for p in range(2, num+1):\n",
    "        if prime[p]:\n",
    "            print(p)\n",
    " \n",
    " \n",
    "# Driver code\n",
    "if __name__ == '__main__':\n",
    "    num = int(input(\"Enter a number: \"))\n",
    "    print(\"Following are the prime numbers smaller than or equal to\", num)\n",
    "    SieveOfEratosthenes(num)"
   ]
  }
 ],
 "metadata": {
  "kernelspec": {
   "display_name": "Python 3 (ipykernel)",
   "language": "python",
   "name": "python3"
  },
  "language_info": {
   "codemirror_mode": {
    "name": "ipython",
    "version": 3
   },
   "file_extension": ".py",
   "mimetype": "text/x-python",
   "name": "python",
   "nbconvert_exporter": "python",
   "pygments_lexer": "ipython3",
   "version": "3.11.4"
  }
 },
 "nbformat": 4,
 "nbformat_minor": 5
}
